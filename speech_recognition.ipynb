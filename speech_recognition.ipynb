{
 "cells": [
  {
   "cell_type": "code",
   "execution_count": 2,
   "metadata": {},
   "outputs": [],
   "source": [
    "import speech_recognition as sr"
   ]
  },
  {
   "cell_type": "code",
   "execution_count": 3,
   "metadata": {},
   "outputs": [],
   "source": [
    "r=sr.Recognizer()"
   ]
  },
  {
   "cell_type": "code",
   "execution_count": 12,
   "metadata": {},
   "outputs": [
    {
     "name": "stdout",
     "output_type": "stream",
     "text": [
      "Say Something\n",
      "Time Over, Thanks\n",
      "TEXT:  hello world hi hello Chrome\n"
     ]
    }
   ],
   "source": [
    "with sr.Microphone() as source:\n",
    "    print(\"Say Something\");\n",
    "    audio=r.listen(source)\n",
    "    print(\"Time Over, Thanks\")\n",
    "    \n",
    "try:\n",
    "    value = r.recognize_google(audio)\n",
    "    if str is bytes: \n",
    "        result = u\"{}\".format(value).encode(\"utf-8\")\n",
    "\n",
    "    else: \n",
    "        result = \"{}\".format(value)\n",
    "\n",
    "    with open(\"D:/speech_outputs.txt\",\"a\") as f:\n",
    "        f.write('\\n'+result)\n",
    "    print(\"TEXT: \",result)\n",
    "except:\n",
    "    pass;"
   ]
  }
 ],
 "metadata": {
  "kernelspec": {
   "display_name": "Python 3",
   "language": "python",
   "name": "python3"
  },
  "language_info": {
   "codemirror_mode": {
    "name": "ipython",
    "version": 3
   },
   "file_extension": ".py",
   "mimetype": "text/x-python",
   "name": "python",
   "nbconvert_exporter": "python",
   "pygments_lexer": "ipython3",
   "version": "3.6.5"
  }
 },
 "nbformat": 4,
 "nbformat_minor": 2
}
